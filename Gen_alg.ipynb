{
 "cells": [
  {
   "cell_type": "code",
   "execution_count": 1,
   "metadata": {},
   "outputs": [
    {
     "name": "stdout",
     "output_type": "stream",
     "text": [
      "Collecting psycopg2\n",
      "  Downloading psycopg2-2.9.3-cp38-cp38-win_amd64.whl (1.1 MB)\n",
      "Installing collected packages: psycopg2\n",
      "Successfully installed psycopg2-2.9.3\n",
      "Note: you may need to restart the kernel to use updated packages.\n"
     ]
    }
   ],
   "source": [
    "pip install psycopg2"
   ]
  },
  {
   "cell_type": "code",
   "execution_count": 1,
   "metadata": {},
   "outputs": [],
   "source": [
    "class Gene(object):\n",
    "    def __init__(self, course, teacher, time, auditorium):\n",
    "        self.course = course\n",
    "        self.teacher = teacher\n",
    "        self.time = time\n",
    "        self.auditorium = auditorium\n",
    "        \n",
    "    "
   ]
  },
  {
   "cell_type": "code",
   "execution_count": 63,
   "metadata": {},
   "outputs": [
    {
     "ename": "SyntaxError",
     "evalue": "unexpected EOF while parsing (<ipython-input-63-4d6efe79b9b4>, line 2)",
     "output_type": "error",
     "traceback": [
      "\u001b[1;36m  File \u001b[1;32m\"<ipython-input-63-4d6efe79b9b4>\"\u001b[1;36m, line \u001b[1;32m2\u001b[0m\n\u001b[1;33m    def __init__():\u001b[0m\n\u001b[1;37m                   ^\u001b[0m\n\u001b[1;31mSyntaxError\u001b[0m\u001b[1;31m:\u001b[0m unexpected EOF while parsing\n"
     ]
    }
   ],
   "source": [
    "class Chromosome(object):\n",
    "    def __init__():"
   ]
  },
  {
   "cell_type": "code",
   "execution_count": null,
   "metadata": {},
   "outputs": [],
   "source": [
    "class Individual(object):"
   ]
  },
  {
   "cell_type": "code",
   "execution_count": 1,
   "metadata": {},
   "outputs": [],
   "source": [
    "import psycopg2\n",
    "import psycopg2.extras\n",
    "import pandas as pd\n",
    "import numpy as np"
   ]
  },
  {
   "cell_type": "code",
   "execution_count": 15,
   "metadata": {},
   "outputs": [],
   "source": [
    "def GetTablePandas(table):\n",
    "    cur = conn.cursor(cursor_factory=psycopg2.extras.RealDictCursor)\n",
    "    cur.execute(\"SELECT * from \"+table)\n",
    "\n",
    "    data = cur.fetchall()\n",
    "    if len(data)==0:\n",
    "        return pd.DataFrame()\n",
    "    \n",
    "    colNames = data[0].keys()\n",
    "    cur.close()\n",
    "    return pd.DataFrame([[row[col] for col in colNames] for row in data], columns=colNames)"
   ]
  },
  {
   "cell_type": "code",
   "execution_count": 21,
   "metadata": {},
   "outputs": [
    {
     "data": {
      "text/html": [
       "<div>\n",
       "<style scoped>\n",
       "    .dataframe tbody tr th:only-of-type {\n",
       "        vertical-align: middle;\n",
       "    }\n",
       "\n",
       "    .dataframe tbody tr th {\n",
       "        vertical-align: top;\n",
       "    }\n",
       "\n",
       "    .dataframe thead th {\n",
       "        text-align: right;\n",
       "    }\n",
       "</style>\n",
       "<table border=\"1\" class=\"dataframe\">\n",
       "  <thead>\n",
       "    <tr style=\"text-align: right;\">\n",
       "      <th></th>\n",
       "      <th>idaudience</th>\n",
       "      <th>audiencenumber</th>\n",
       "      <th>capacity</th>\n",
       "      <th>audiencelocation</th>\n",
       "      <th>hardwaresoftware</th>\n",
       "    </tr>\n",
       "  </thead>\n",
       "  <tbody>\n",
       "    <tr>\n",
       "      <th>0</th>\n",
       "      <td>1</td>\n",
       "      <td>1</td>\n",
       "      <td>20</td>\n",
       "      <td>ГЗ МАИ</td>\n",
       "      <td>None</td>\n",
       "    </tr>\n",
       "    <tr>\n",
       "      <th>1</th>\n",
       "      <td>2</td>\n",
       "      <td>2</td>\n",
       "      <td>20</td>\n",
       "      <td>ГЗ МАИ</td>\n",
       "      <td>None</td>\n",
       "    </tr>\n",
       "    <tr>\n",
       "      <th>2</th>\n",
       "      <td>3</td>\n",
       "      <td>3</td>\n",
       "      <td>20</td>\n",
       "      <td>ГЗ МАИ</td>\n",
       "      <td>None</td>\n",
       "    </tr>\n",
       "    <tr>\n",
       "      <th>3</th>\n",
       "      <td>4</td>\n",
       "      <td>4</td>\n",
       "      <td>20</td>\n",
       "      <td>ГЗ МАИ</td>\n",
       "      <td>None</td>\n",
       "    </tr>\n",
       "    <tr>\n",
       "      <th>4</th>\n",
       "      <td>5</td>\n",
       "      <td>5</td>\n",
       "      <td>20</td>\n",
       "      <td>ГЗ МАИ</td>\n",
       "      <td>None</td>\n",
       "    </tr>\n",
       "  </tbody>\n",
       "</table>\n",
       "</div>"
      ],
      "text/plain": [
       "   idaudience audiencenumber  capacity audiencelocation hardwaresoftware\n",
       "0           1     1                 20           ГЗ МАИ             None\n",
       "1           2     2                 20           ГЗ МАИ             None\n",
       "2           3     3                 20           ГЗ МАИ             None\n",
       "3           4     4                 20           ГЗ МАИ             None\n",
       "4           5     5                 20           ГЗ МАИ             None"
      ]
     },
     "execution_count": 21,
     "metadata": {},
     "output_type": "execute_result"
    }
   ],
   "source": [
    "conn = psycopg2.connect(dbname=\"ScheduleDB\", user=\"postgres\", password=\"adiros\", host=\"localhost\", port=5432)\n",
    "\n",
    "Audience = GetTablePandas(\"audience\")\n",
    "ClassGroup = GetTablePandas(\"classgroup\")\n",
    "Teacher = GetTablePandas(\"teacher\")\n",
    "#Curriculum = GetTablePandas(\"сurriculum\")\n",
    "Schedule = GetTablePandas(\"schedule\")\n",
    "ConvenientTimeGroup = GetTablePandas(\"convenienttimegroup\")\n",
    "ConvenientTimeTeacher = GetTablePandas(\"convenienttimeteacher\")\n",
    "\n",
    "conn.close()\n",
    "\n",
    "Audience.head()"
   ]
  },
  {
   "cell_type": "code",
   "execution_count": 18,
   "metadata": {},
   "outputs": [
    {
     "data": {
      "text/html": [
       "<div>\n",
       "<style scoped>\n",
       "    .dataframe tbody tr th:only-of-type {\n",
       "        vertical-align: middle;\n",
       "    }\n",
       "\n",
       "    .dataframe tbody tr th {\n",
       "        vertical-align: top;\n",
       "    }\n",
       "\n",
       "    .dataframe thead th {\n",
       "        text-align: right;\n",
       "    }\n",
       "</style>\n",
       "<table border=\"1\" class=\"dataframe\">\n",
       "  <thead>\n",
       "    <tr style=\"text-align: right;\">\n",
       "      <th></th>\n",
       "      <th>idteacher</th>\n",
       "      <th>teachername</th>\n",
       "      <th>teachersurname</th>\n",
       "      <th>teachermiddlename</th>\n",
       "      <th>email</th>\n",
       "      <th>convenientplace</th>\n",
       "    </tr>\n",
       "  </thead>\n",
       "  <tbody>\n",
       "    <tr>\n",
       "      <th>0</th>\n",
       "      <td>1</td>\n",
       "      <td>T1</td>\n",
       "      <td>T1</td>\n",
       "      <td>T1</td>\n",
       "      <td>None</td>\n",
       "      <td>ГЗ МАИ</td>\n",
       "    </tr>\n",
       "    <tr>\n",
       "      <th>1</th>\n",
       "      <td>2</td>\n",
       "      <td>T2</td>\n",
       "      <td>T2</td>\n",
       "      <td>T2</td>\n",
       "      <td>None</td>\n",
       "      <td>ГЗ МАИ</td>\n",
       "    </tr>\n",
       "    <tr>\n",
       "      <th>2</th>\n",
       "      <td>3</td>\n",
       "      <td>T3</td>\n",
       "      <td>T3</td>\n",
       "      <td>T3</td>\n",
       "      <td>None</td>\n",
       "      <td>ГЗ МАИ</td>\n",
       "    </tr>\n",
       "    <tr>\n",
       "      <th>3</th>\n",
       "      <td>4</td>\n",
       "      <td>T4</td>\n",
       "      <td>T4</td>\n",
       "      <td>T4</td>\n",
       "      <td>None</td>\n",
       "      <td>ГЗ МАИ</td>\n",
       "    </tr>\n",
       "    <tr>\n",
       "      <th>4</th>\n",
       "      <td>5</td>\n",
       "      <td>T5</td>\n",
       "      <td>T5</td>\n",
       "      <td>T5</td>\n",
       "      <td>None</td>\n",
       "      <td>ГЗ МАИ</td>\n",
       "    </tr>\n",
       "  </tbody>\n",
       "</table>\n",
       "</div>"
      ],
      "text/plain": [
       "   idteacher                     teachername                  teachersurname  \\\n",
       "0          1  T1                              T1                               \n",
       "1          2  T2                              T2                               \n",
       "2          3  T3                              T3                               \n",
       "3          4  T4                              T4                               \n",
       "4          5  T5                              T5                               \n",
       "\n",
       "                teachermiddlename email convenientplace  \n",
       "0  T1                              None          ГЗ МАИ  \n",
       "1  T2                              None          ГЗ МАИ  \n",
       "2  T3                              None          ГЗ МАИ  \n",
       "3  T4                              None          ГЗ МАИ  \n",
       "4  T5                              None          ГЗ МАИ  "
      ]
     },
     "execution_count": 18,
     "metadata": {},
     "output_type": "execute_result"
    }
   ],
   "source": [
    "Teacher.head()"
   ]
  },
  {
   "cell_type": "code",
   "execution_count": null,
   "metadata": {},
   "outputs": [],
   "source": []
  }
 ],
 "metadata": {
  "kernelspec": {
   "display_name": "Python 3",
   "language": "python",
   "name": "python3"
  },
  "language_info": {
   "codemirror_mode": {
    "name": "ipython",
    "version": 3
   },
   "file_extension": ".py",
   "mimetype": "text/x-python",
   "name": "python",
   "nbconvert_exporter": "python",
   "pygments_lexer": "ipython3",
   "version": "3.8.5"
  }
 },
 "nbformat": 4,
 "nbformat_minor": 4
}
